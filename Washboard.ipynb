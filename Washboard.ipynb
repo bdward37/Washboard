{
  "cells": [
    {
      "cell_type": "code",
      "execution_count": null,
      "metadata": {
        "id": "38xW7vkIr6dT"
      },
      "outputs": [],
      "source": [
        "!pip install praw\n",
        "import praw\n",
        "import time\n",
        "\n",
        "USER_AGENT = \"script:whasboardscript:v1.0.5 (by u/bdward37)\"\n",
        "\n",
        "USERNAME = \" \"  # Your username\n",
        "PASSWORD = \" \"  # Your password. If you use two factor authentication, join it to your password with a colon, for example - password=\"1guiwevlfo00esyy:955413\"\n",
        "CLIENT_ID = \" \"  # Reddit app client id\n",
        "CLIENT_SECRET = \" \"  # Reddit app secret\n",
        "\n",
        "SUBREDDIT = \"\"  # example /r/askreddit = askreddit\n",
        "EDITVALUE = \" \"  # The value of this variable is what each comment will be edited into before being deleted. Comments are edited first so trackers can't keep the comment\n",
        "\n",
        "ASKBEFOREDELETING = True  # The bot asks permission before deleting each comment. If set to false, it deletes the comment without user input\n",
        "\n",
        "count = 0\n",
        "\n",
        "\n",
        "def deleteTheComment(comment):\n",
        "    comment.edit(EDITVALUE)\n",
        "    comment.delete()\n",
        "\n",
        "\n",
        "\n",
        "def remove_comments(reddit):\n",
        "    \n",
        "    user = reddit.redditor(USERNAME)\n",
        "    skipped_subreddits = []\n",
        "    count = 0\n",
        "    for comment in user.comments.new(limit=None):  # Limit none = deletes as many comments as the bot can find (hard limit 200). Change this value to the number of comments you want the bot to search for (under 200).\n",
        "        \n",
        "        if comment.subreddit in skipped_subreddits: # if the comment is in the subreddit you've flagged to skip, continue to the next comment\n",
        "            continue\n",
        "\n",
        "        print(comment.body)\n",
        "        if ASKBEFOREDELETING:\n",
        "            response = input(\"Are you sure you want to delete this comment? [y/n]\")\n",
        "            if response.lower() == \"y\":\n",
        "                deleteTheComment(comment) \n",
        "                count+=1\n",
        "                print(\" \")\n",
        "            else:\n",
        "                print(\"Comment skipped\")\n",
        "                print(\" \")\n",
        "        else:\n",
        "            time.sleep(2)\n",
        "            deleteTheComment(comment)\n",
        "            count+=1\n",
        "            print(\" \")\n",
        "    print(\"Done! Deleted \" + str(count) + \" comment(s).\")\n",
        "      \n",
        "    \n",
        "\n",
        "\n",
        "if __name__ == \"__main__\":\n",
        "    print(\"Logging on the entered Reddit user\")\n",
        "    reddit = praw.Reddit(\n",
        "        check_for_async=False,\n",
        "        username=USERNAME,\n",
        "        password=PASSWORD,\n",
        "        client_id=CLIENT_ID,\n",
        "        client_secret=CLIENT_SECRET,\n",
        "        user_agent=USER_AGENT,\n",
        "    )\n",
        "    remove_comments(reddit)\n",
        "    "
      ]
    },
    {
      "cell_type": "code",
      "source": [
        ""
      ],
      "metadata": {
        "id": "i-MHGk6ERPJV"
      },
      "execution_count": null,
      "outputs": []
    }
  ],
  "metadata": {
    "colab": {
      "name": "PublicWashboard.ipynb",
      "provenance": [],
      "authorship_tag": "ABX9TyPRgeTmI94ohtggvvipJbxc"
    },
    "kernelspec": {
      "display_name": "Python 3",
      "name": "python3"
    }
  },
  "nbformat": 4,
  "nbformat_minor": 0
}